{
 "cells": [
  {
   "cell_type": "markdown",
   "metadata": {
    "id": "9Qp0H_zUQuu_"
   },
   "source": [
    "# Нейронные сети\n",
    "__Суммарное количество баллов: 10__\n",
    "\n",
    "__Решение отправлять на `ml.course.practice@gmail.com`__\n",
    "\n",
    "__Тема письма: `[HSE][ML][HW05] <ФИ>`, где вместо `<ФИ>` указаны фамилия и имя__\n",
    "\n",
    "Для начала вам предстоит реализовать свой собственный backpropagation и протестировать его на реальных данных, а затем научиться обучать нейронные сети при помощи библиотеки `PyTorch` и использовать это умение для классификации классического набора данных CIFAR10."
   ]
  },
  {
   "cell_type": "code",
   "execution_count": 1,
   "metadata": {
    "id": "22ezVRf3QuvA"
   },
   "outputs": [],
   "source": [
    "import numpy as np\n",
    "import copy\n",
    "from sklearn.datasets import make_blobs, make_moons\n",
    "from typing import List, NoReturn\n",
    "from math import sqrt"
   ]
  },
  {
   "cell_type": "markdown",
   "metadata": {
    "id": "4qfDPH_LQuvF"
   },
   "source": [
    "### Задание 1 (3 балла)\n",
    "Нейронные сети состоят из слоев, поэтому для начала понадобится реализовать их. Пока нам понадобятся только три:\n",
    "\n",
    "`Linear` - полносвязный слой, в котором `y = Wx + b`, где `y` - выход, `x` - вход, `W` - матрица весов, а `b` - смещение. \n",
    "\n",
    "`ReLU` - слой, соответствующий функции активации `y = max(0, x)`.\n",
    "\n",
    "`Softmax` - слой, соответствующий функции активации [softmax](https://ru.wikipedia.org/wiki/Softmax)\n",
    "\n",
    "\n",
    "#### Методы\n",
    "`forward(X)` - возвращает предсказанные для `X`. `X` может быть как вектором, так и батчем\n",
    "\n",
    "`backward(d)` - считает градиент при помощи обратного распространения ошибки. Возвращает новое значение `d`\n",
    "\n",
    "`update(alpha)` - обновляет веса (если необходимо) с заданой скоростью обучения"
   ]
  },
  {
   "cell_type": "code",
   "execution_count": 2,
   "metadata": {
    "id": "RWFLlHqaYbgC"
   },
   "outputs": [],
   "source": [
    "class Module:\n",
    "    \"\"\"\n",
    "    Абстрактный класс. Его менять не нужно.\n",
    "    \"\"\"\n",
    "    def forward(self, x):\n",
    "        raise NotImplementedError()\n",
    "    \n",
    "    def backward(self, d):\n",
    "        raise NotImplementedError()\n",
    "        \n",
    "    def update(self, alpha):\n",
    "        pass"
   ]
  },
  {
   "cell_type": "code",
   "execution_count": 3,
   "metadata": {
    "id": "aYS2gE4PYepZ"
   },
   "outputs": [],
   "source": [
    "class Linear(Module):\n",
    "    \"\"\"\n",
    "    Линейный полносвязный слой.\n",
    "    \"\"\"\n",
    "    W = None\n",
    "    b = None\n",
    "    in_features = None\n",
    "    out_features = None\n",
    "    x = None\n",
    "    \n",
    "    def __init__(self, in_features: int, out_features: int):\n",
    "        \"\"\"\n",
    "        Parameters\n",
    "        ----------\n",
    "        in_features : int\n",
    "            Размер входа.\n",
    "        out_features : int \n",
    "            Размер выхода.\n",
    "    \n",
    "        Notes\n",
    "        -----\n",
    "        W и b инициализируются случайно.\n",
    "        \"\"\"\n",
    "        self.in_features = in_features\n",
    "        self.out_features = out_features\n",
    "        \n",
    "        n = out_features + in_features\n",
    "        \n",
    "        self.W = np.random.uniform( -(sqrt(6.0) / sqrt(n)), (sqrt(6.0) / sqrt(n)), [out_features, in_features])\n",
    "        self.b = np.random.uniform( -(sqrt(6.0) / sqrt(n)), (sqrt(6.0) / sqrt(n)), [out_features])\n",
    "            \n",
    "    \n",
    "    def forward(self, x: np.ndarray) -> np.ndarray:\n",
    "        \"\"\"\n",
    "        Возвращает y = Wx + b.\n",
    "\n",
    "        Parameters\n",
    "        ----------\n",
    "        x : np.ndarray\n",
    "            Входной вектор или батч.\n",
    "            То есть, либо x вектор с in_features элементов,\n",
    "            либо матрица размерности (batch_size, in_features).\n",
    "    \n",
    "        Return\n",
    "        ------\n",
    "        y : np.ndarray\n",
    "            Выход после слоя.\n",
    "            Либо вектор с out_features элементами,\n",
    "            либо матрица размерности (batch_size, out_features)\n",
    "\n",
    "        \"\"\"\n",
    "        self.x = x\n",
    "        return x @ self.W.T + self.b\n",
    "    \n",
    "    def backward(self, d: np.ndarray) -> np.ndarray:\n",
    "        \"\"\"\n",
    "        Cчитает градиент при помощи обратного распространения ошибки.\n",
    "\n",
    "        Parameters\n",
    "        ----------\n",
    "        d : np.ndarray\n",
    "            Градиент.\n",
    "        Return\n",
    "        ------\n",
    "        np.ndarray\n",
    "            Новое значение градиента.\n",
    "        \"\"\"\n",
    "        self.d = d\n",
    "        return d @ self.W\n",
    "        \n",
    "    def update(self, alpha: float) -> NoReturn:\n",
    "        \"\"\"\n",
    "        Обновляет W и b с заданной скоростью обучения.\n",
    "\n",
    "        Parameters\n",
    "        ----------\n",
    "        alpha : float\n",
    "            Скорость обучения.\n",
    "        \"\"\"\n",
    "        self.b = self.b - alpha * np.sum(self.d, axis=0)\n",
    "        \n",
    "        self.W = self.W - alpha * (self.d.T @ self.x)\n"
   ]
  },
  {
   "cell_type": "code",
   "execution_count": 4,
   "metadata": {
    "id": "94hkbnD1QuvG"
   },
   "outputs": [],
   "source": [
    "class ReLU(Module):\n",
    "    x = None\n",
    "    \"\"\"\n",
    "    Слой, соответствующий функции активации ReLU.\n",
    "    \"\"\"\n",
    "    def __init__(self):\n",
    "        pass\n",
    "    \n",
    "    def forward(self, x: np.ndarray) -> np.ndarray:\n",
    "        \"\"\"\n",
    "        Возвращает y = max(0, x).\n",
    "\n",
    "        Parameters\n",
    "        ----------\n",
    "        x : np.ndarray\n",
    "            Входной вектор или батч.\n",
    "    \n",
    "        Return\n",
    "        ------\n",
    "        y : np.ndarray\n",
    "            Выход после слоя (той же размерности, что и вход).\n",
    "\n",
    "        \"\"\"\n",
    "       \n",
    "        self.x = x\n",
    "        return np.maximum(x, 0)\n",
    "        \n",
    "    def backward(self, d) -> np.ndarray:\n",
    "        \"\"\"\n",
    "        Cчитает градиент при помощи обратного распространения ошибки.\n",
    "\n",
    "        Parameters\n",
    "        ----------\n",
    "        d : np.ndarray\n",
    "            Градиент.\n",
    "        Return\n",
    "        ------\n",
    "        np.ndarray\n",
    "            Новое значение градиента.\n",
    "        \"\"\"\n",
    "        tmp = np.where(self.x < 0, 0, self.x)\n",
    "        tmp = np.where(tmp > 0, 1, tmp)\n",
    "        return d * tmp\n",
    "        \n",
    "        \n",
    "class Softmax(Module):\n",
    "    \"\"\"\n",
    "    Слой, соответствующий функции активации Softmax.\n",
    "    \"\"\"\n",
    "    x = None\n",
    "    def __init__(self):\n",
    "        pass\n",
    "        \n",
    "    def forward(self, x: np.ndarray) -> np.ndarray:\n",
    "        \"\"\"\n",
    "        Возвращает y = Softmax(x).\n",
    "\n",
    "        Parameters\n",
    "        ----------\n",
    "        x : np.ndarray\n",
    "            Входной вектор или батч.\n",
    "    \n",
    "        Return\n",
    "        ------\n",
    "        y : np.ndarray\n",
    "            Выход после слоя (той же размерности, что и вход).\n",
    "\n",
    "        \"\"\"\n",
    "        self.x = np.exp(x) / np.array([np.exp(x).sum(axis = 1)] * x.shape[1]).T\n",
    "        return self.x\n",
    "        \n",
    "    def backward(self, d) -> np.ndarray:\n",
    "        \"\"\"\n",
    "        Cчитает градиент при помощи обратного распространения ошибки.\n",
    "\n",
    "        Parameters\n",
    "        ----------\n",
    "        d : np.ndarray\n",
    "            Градиент.\n",
    "        Return\n",
    "        ------\n",
    "        np.ndarray\n",
    "            Новое значение градиента.\n",
    "        \"\"\"\n",
    "        return self.x - d"
   ]
  },
  {
   "cell_type": "markdown",
   "metadata": {
    "id": "Rb_ip_h8QuvJ"
   },
   "source": [
    "### Задание 2 (2 балла)\n",
    "Теперь сделаем саму нейронную сеть.\n",
    "\n",
    "#### Методы\n",
    "`fit(X, y)` - обучает нейронную сеть заданное число эпох. В каждой эпохе необходимо использовать [cross-entropy loss](https://ml-cheatsheet.readthedocs.io/en/latest/loss_functions.html#cross-entropy) для обучения, а так же производить обновления не по одному элементу, а используя батчи.\n",
    "\n",
    "`predict_proba(X)` - предсказывает вероятности классов для элементов `X`\n",
    "\n",
    "#### Параметры конструктора\n",
    "`modules` - список, состоящий из ранее реализованных модулей и описывающий слои нейронной сети. В конец необходимо добавить `Softmax`\n",
    "\n",
    "`epochs` - количество эпох обучения\n",
    "\n",
    "`alpha` - скорость обучения"
   ]
  },
  {
   "cell_type": "code",
   "execution_count": 15,
   "metadata": {
    "id": "Q_JFCizKQuvK"
   },
   "outputs": [],
   "source": [
    "class MLPClassifier:\n",
    "    modules = None\n",
    "    epochs = None\n",
    "    alpha = None\n",
    "    class_num = None\n",
    "    def __init__(self, modules: List[Module], epochs: int = 40, alpha: float = 0.001):\n",
    "        \"\"\"\n",
    "        Parameters\n",
    "        ----------\n",
    "        modules : List[Module]\n",
    "            Cписок, состоящий из ранее реализованных модулей и \n",
    "            описывающий слои нейронной сети. \n",
    "            В конец необходимо добавить Softmax.\n",
    "        epochs : int\n",
    "            Количество эпох обученияю\n",
    "        alpha : float\n",
    "            Cкорость обучения.\n",
    "        \"\"\"\n",
    "        self.modules = modules + [Softmax()]\n",
    "        self.alpha = alpha\n",
    "        self.epochs = epochs\n",
    "            \n",
    "    def fit(self, X: np.ndarray, y: np.ndarray, batch_size=32) -> NoReturn:\n",
    "        \"\"\"\n",
    "        Обучает нейронную сеть заданное число эпох. \n",
    "        В каждой эпохе необходимо использовать cross-entropy loss для обучения, \n",
    "        а так же производить обновления не по одному элементу, а используя батчи.\n",
    "\n",
    "        Parameters\n",
    "        ----------\n",
    "        X : np.ndarray\n",
    "            Данные для обучения.\n",
    "        y : np.ndarray\n",
    "            Вектор меток классов для данных.\n",
    "        batch_size : int\n",
    "            Размер батча.\n",
    "        \"\"\"\n",
    "        self.class_num = len(np.unique(y))\n",
    "        for epoch in range(0, self.epochs):\n",
    "            for i in range(0, X.shape[0], batch_size):\n",
    "                tmp_x = X[i:(i+batch_size)]\n",
    "                tmp_y = np.array([[0] * self.class_num] * len(tmp_x))\n",
    "                for j in range(0, len(tmp_y)):\n",
    "                    tmp_y[j][y[i + j]] = 1\n",
    "                    \n",
    "                for module in self.modules:\n",
    "                    tmp_x = module.forward(tmp_x)\n",
    "                \n",
    "                \n",
    "                for j, module in enumerate(self.modules[::-1]):\n",
    "                    tmp_y = module.backward(tmp_y)\n",
    "                    if j % 2 != 0:\n",
    "                        module.update(self.alpha)\n",
    "                \n",
    "            \n",
    "        \n",
    "    def predict_proba(self, X: np.ndarray) -> np.ndarray:\n",
    "        \"\"\"\n",
    "        Предсказывает вероятности классов для элементов X.\n",
    "\n",
    "        Parameters\n",
    "        ----------\n",
    "        X : np.ndarray\n",
    "            Данные для предсказания.\n",
    "        \n",
    "        Return\n",
    "        ------\n",
    "        np.ndarray\n",
    "            Предсказанные вероятности классов для всех элементов X.\n",
    "            Размерность (X.shape[0], n_classes)\n",
    "        \n",
    "        \"\"\"\n",
    "        ans = np.zeros((X.shape[0], self.class_num))\n",
    "        for i, x in enumerate(X):\n",
    "            tmp_x = np.array([x])\n",
    "            for j, module in enumerate(self.modules):\n",
    "                tmp_x = module.forward(tmp_x)\n",
    "            ans[i] = tmp_x\n",
    "        return ans\n",
    "        \n",
    "    def predict(self, X) -> np.ndarray:\n",
    "        \"\"\"\n",
    "        Предсказывает метки классов для элементов X.\n",
    "\n",
    "        Parameters\n",
    "        ----------\n",
    "        X : np.ndarray\n",
    "            Данные для предсказания.\n",
    "        \n",
    "        Return\n",
    "        ------\n",
    "        np.ndarray\n",
    "            Вектор предсказанных классов\n",
    "        \n",
    "        \"\"\"\n",
    "        p = self.predict_proba(X)\n",
    "        return np.argmax(p, axis=1)"
   ]
  },
  {
   "cell_type": "code",
   "execution_count": 16,
   "metadata": {
    "id": "onDymYQXQuvN"
   },
   "outputs": [],
   "source": [
    "p = MLPClassifier([\n",
    "    Linear(4, 64),\n",
    "    ReLU(),\n",
    "    Linear(64, 64),\n",
    "    ReLU(),\n",
    "    Linear(64, 2)\n",
    "])\n",
    "\n",
    "X = np.random.randn(50, 4)\n",
    "y = [(0 if x[0] > x[2]**2 or x[3]**3 > 0.5 else 1) for x in X]\n",
    "p.fit(X, y)"
   ]
  },
  {
   "cell_type": "markdown",
   "metadata": {
    "id": "3C1EIsDqQuvQ"
   },
   "source": [
    "### Задание 3 (2 балла)\n",
    "Протестируем наше решение на синтетических данных. Необходимо подобрать гиперпараметры, при которых качество полученных классификаторов будет достаточным.\n",
    "\n",
    "#### Оценка\n",
    "Accuracy на первом датасете больше 0.85 - +1 балл\n",
    "\n",
    "Accuracy на втором датасете больше 0.85 - +1 балл"
   ]
  },
  {
   "cell_type": "code",
   "execution_count": 17,
   "metadata": {
    "id": "d5UAgXTcQuvQ"
   },
   "outputs": [
    {
     "name": "stdout",
     "output_type": "stream",
     "text": [
      "(400, 2)\n",
      "Accuracy 0.96\n"
     ]
    }
   ],
   "source": [
    "X, y = make_moons(400, noise=0.075)\n",
    "X_test, y_test = make_moons(400, noise=0.075)\n",
    "print(X.shape)\n",
    "best_acc = 0\n",
    "for _ in range(25):\n",
    "    p = MLPClassifier([\n",
    "        Linear(2, 64),\n",
    "        ReLU(),\n",
    "        Linear(64, 64),\n",
    "        ReLU(),\n",
    "        Linear(64, 2)\n",
    "    ])\n",
    "\n",
    "\n",
    "\n",
    "    p.fit(X, y)\n",
    "    best_acc = max(np.mean(p.predict(X_test) == y_test), best_acc)\n",
    "print(\"Accuracy\", best_acc)"
   ]
  },
  {
   "cell_type": "code",
   "execution_count": 18,
   "metadata": {
    "id": "MMDJM4qFQuvT"
   },
   "outputs": [
    {
     "name": "stdout",
     "output_type": "stream",
     "text": [
      "Accuracy 0.955\n"
     ]
    }
   ],
   "source": [
    "X, y = make_blobs(400, 2, centers=[[0, 0], [2.5, 2.5], [-2.5, 3]])\n",
    "X_test, y_test = make_blobs(400, 2, centers=[[0, 0], [2.5, 2.5], [-2.5, 3]])\n",
    "best_acc = 0\n",
    "for _ in range(25):\n",
    "    p = p = MLPClassifier([\n",
    "        Linear(2, 64),\n",
    "        ReLU(),\n",
    "        Linear(64, 64),\n",
    "        ReLU(),\n",
    "        Linear(64, 3)\n",
    "    ])\n",
    "\n",
    "    p.fit(X, y)\n",
    "    best_acc = max(np.mean(p.predict(X_test) == y_test), best_acc)\n",
    "print(\"Accuracy\", best_acc)"
   ]
  },
  {
   "cell_type": "markdown",
   "metadata": {
    "id": "nPbVTFnMQuvW"
   },
   "source": [
    "## PyTorch\n",
    "\n",
    "Для выполнения следующего задания понадобится PyTorch. [Инструкция по установке](https://pytorch.org/get-started/locally/)\n",
    "\n",
    "Если у вас нет GPU, то можно использовать [Google Colab](https://colab.research.google.com/)"
   ]
  },
  {
   "cell_type": "code",
   "execution_count": 20,
   "metadata": {
    "id": "tV0mJLu-QuvX"
   },
   "outputs": [],
   "source": [
    "from torchvision import datasets, transforms\n",
    "from torch.utils.data import DataLoader\n",
    "import torch\n",
    "from tqdm import tqdm\n",
    "from torch import nn\n",
    "import torch.nn.functional as F\n",
    "import matplotlib.pyplot as plt"
   ]
  },
  {
   "cell_type": "code",
   "execution_count": 21,
   "metadata": {
    "id": "VUC_QqpAQuva"
   },
   "outputs": [
    {
     "name": "stdout",
     "output_type": "stream",
     "text": [
      "Downloading https://www.cs.toronto.edu/~kriz/cifar-10-python.tar.gz to datasets/cifar10/cifar-10-python.tar.gz\n"
     ]
    },
    {
     "data": {
      "application/vnd.jupyter.widget-view+json": {
       "model_id": "357a47b007aa441eaf54def3c47a0690",
       "version_major": 2,
       "version_minor": 0
      },
      "text/plain": [
       "  0%|          | 0/170498071 [00:00<?, ?it/s]"
      ]
     },
     "metadata": {},
     "output_type": "display_data"
    },
    {
     "name": "stdout",
     "output_type": "stream",
     "text": [
      "Extracting datasets/cifar10/cifar-10-python.tar.gz to datasets/cifar10\n",
      "Files already downloaded and verified\n"
     ]
    }
   ],
   "source": [
    "device = torch.device(\"cuda\" if torch.cuda.is_available() else \"cpu\")\n",
    "\n",
    "t = transforms.ToTensor()\n",
    "\n",
    "cifar_train = datasets.CIFAR10(\"datasets/cifar10\", download=True, train=True, transform=t)\n",
    "train_loader = DataLoader(cifar_train, batch_size=1024, shuffle=True, pin_memory=torch.cuda.is_available())\n",
    "cifar_test = datasets.CIFAR10(\"datasets/cifar10\", download=True, train=False, transform=t)\n",
    "test_loader = DataLoader(cifar_test, batch_size=1024, shuffle=False, pin_memory=torch.cuda.is_available())"
   ]
  },
  {
   "cell_type": "markdown",
   "metadata": {
    "id": "rGmpjcFfQuvd"
   },
   "source": [
    "### Задание 4 (3 балла)\n",
    "А теперь поработам с настоящими нейронными сетями и настоящими данными. Необходимо реализовать сверточную нейронную сеть, которая будет классифицировать изображения из датасета CIFAR10. Имплементируйте класс `Model` и функцию `calculate_loss`. \n",
    "\n",
    "Обратите внимание, что `Model` должна считать в конце `softmax`, т.к. мы решаем задачу классификации. Соответствеено, функция `calculate_loss` считает cross-entropy.\n",
    "\n",
    "Для успешного выполнения задания необходимо, чтобы `accuracy`, `mean precision` и `mean recall` были больше 0.5\n",
    "\n",
    "__Можно пользоваться всем содержимым библиотеки PyTorch.__"
   ]
  },
  {
   "cell_type": "code",
   "execution_count": 42,
   "metadata": {
    "id": "5sRmTKwKQuve"
   },
   "outputs": [],
   "source": [
    "class Model(nn.Module):\n",
    "    def __init__(self):\n",
    "        super().__init__()\n",
    "        self.conv1 = nn.Conv2d(3, 6, 5)\n",
    "        self.conv2 = nn.Conv2d(6, 16, 5)\n",
    "        # an affine operation: y = Wx + b\n",
    "        self.fc1 = nn.Linear(16 * 5 * 5, 120)  # 5*5 from image dimension\n",
    "        self.fc2 = nn.Linear(120, 84)\n",
    "        self.fc3 = nn.Linear(84, 10)\n",
    "\n",
    "    def forward(self, x: torch.Tensor) -> torch.Tensor:\n",
    "        x = F.max_pool2d(F.relu(self.conv1(x)), (2, 2))\n",
    "        # If the size is a square, you can specify with a single number\n",
    "        x = F.max_pool2d(F.relu(self.conv2(x)), 2)\n",
    "        x = torch.flatten(x, 1) # flatten all dimensions except the batch dimension\n",
    "        x = F.relu(self.fc1(x))\n",
    "        x = F.relu(self.fc2(x))\n",
    "        x = self.fc3(x)\n",
    "        return x\n",
    "\n",
    "        \n",
    "def calculate_loss(X: torch.Tensor, y: torch.Tensor, model: Model):\n",
    "    \"\"\"\n",
    "    Cчитает cross-entropy.\n",
    "\n",
    "    Parameters\n",
    "    ----------\n",
    "    X : torch.Tensor\n",
    "        Данные для обучения.\n",
    "    y : torch.Tensor\n",
    "        Метки классов.\n",
    "    model : Model\n",
    "        Модель, которую будем обучать.\n",
    "\n",
    "    \"\"\"\n",
    "    prediction = model(X)\n",
    "    loss = nn.CrossEntropyLoss()\n",
    "    return loss(prediction, y)"
   ]
  },
  {
   "cell_type": "markdown",
   "metadata": {
    "id": "JAsLmkUqQuvh"
   },
   "source": [
    "Теперь обучим нашу модель. Для этого используем ранее созданные batch loader'ы."
   ]
  },
  {
   "cell_type": "code",
   "execution_count": 49,
   "metadata": {
    "id": "k5G8iMCeQuvh"
   },
   "outputs": [],
   "source": [
    "def train(model, epochs=100):\n",
    "    optimizer = torch.optim.Adam(model.parameters())\n",
    "    train_losses = []\n",
    "    test_losses = []\n",
    "    for i in range(epochs):\n",
    "        #Train\n",
    "        loss_mean = 0\n",
    "        elements = 0\n",
    "        for X, y in iter(train_loader):\n",
    "            X = X.to(device)\n",
    "            y = y.to(device)\n",
    "            loss = calculate_loss(X, y, model)\n",
    "            optimizer.zero_grad()\n",
    "            loss.backward()\n",
    "            optimizer.step()\n",
    "            loss_mean += loss.item() * len(X)\n",
    "            elements += len(X)\n",
    "        train_losses.append(loss_mean / elements)\n",
    "        #Test\n",
    "        loss_mean = 0 \n",
    "        elements = 0\n",
    "        for X, y in iter(test_loader):\n",
    "            X = X.to(device)\n",
    "            y = y.to(device)\n",
    "            loss = calculate_loss(X, y, model)\n",
    "            loss_mean += loss.item() * len(X)\n",
    "            elements += len(X)\n",
    "        test_losses.append(loss_mean / elements)\n",
    "        print(\"Epoch\", i, \"| Train loss\", train_losses[-1], \"| Test loss\", test_losses[-1])\n",
    "    return train_losses, test_losses"
   ]
  },
  {
   "cell_type": "code",
   "execution_count": 50,
   "metadata": {
    "id": "vmD9eWJOQuvl",
    "scrolled": true
   },
   "outputs": [
    {
     "name": "stdout",
     "output_type": "stream",
     "text": [
      "Epoch 0 | Train loss 2.1584290516662596 | Test loss 2.0071142459869384\n",
      "Epoch 1 | Train loss 1.9005691941833496 | Test loss 1.783334956741333\n",
      "Epoch 2 | Train loss 1.7498809079742432 | Test loss 1.7105054460525513\n",
      "Epoch 3 | Train loss 1.670283283882141 | Test loss 1.6523817167282104\n",
      "Epoch 4 | Train loss 1.629459761390686 | Test loss 1.6049561126708984\n",
      "Epoch 5 | Train loss 1.5910261946487427 | Test loss 1.5656414514541626\n",
      "Epoch 6 | Train loss 1.5563438565063477 | Test loss 1.5788633378982544\n",
      "Epoch 7 | Train loss 1.525462788772583 | Test loss 1.5158034156799316\n",
      "Epoch 8 | Train loss 1.4891276596450806 | Test loss 1.473026852607727\n",
      "Epoch 9 | Train loss 1.4567995728683472 | Test loss 1.4409708965301513\n",
      "Epoch 10 | Train loss 1.4288938187026978 | Test loss 1.437555672645569\n",
      "Epoch 11 | Train loss 1.408723664932251 | Test loss 1.4237150733947754\n",
      "Epoch 12 | Train loss 1.3854257103347778 | Test loss 1.3944596046447755\n",
      "Epoch 13 | Train loss 1.3662716019058228 | Test loss 1.3864581453323364\n",
      "Epoch 14 | Train loss 1.3424153329467774 | Test loss 1.3633033548355102\n",
      "Epoch 15 | Train loss 1.3218117447662354 | Test loss 1.3296160140991211\n",
      "Epoch 16 | Train loss 1.3118577104187013 | Test loss 1.3220175653457642\n",
      "Epoch 17 | Train loss 1.296953821105957 | Test loss 1.314034616470337\n",
      "Epoch 18 | Train loss 1.2833072653579711 | Test loss 1.316898204612732\n",
      "Epoch 19 | Train loss 1.2756725542449951 | Test loss 1.282743692779541\n",
      "Epoch 20 | Train loss 1.2555663446044922 | Test loss 1.2800864372253418\n",
      "Epoch 21 | Train loss 1.241950804901123 | Test loss 1.2667771047592162\n",
      "Epoch 22 | Train loss 1.2307429081726073 | Test loss 1.2768793048858642\n",
      "Epoch 23 | Train loss 1.2249777531433106 | Test loss 1.2489980024337768\n",
      "Epoch 24 | Train loss 1.2122842950820922 | Test loss 1.2648847883224488\n",
      "Epoch 25 | Train loss 1.205706216316223 | Test loss 1.2290412759780884\n",
      "Epoch 26 | Train loss 1.1906352633285522 | Test loss 1.239954757118225\n",
      "Epoch 27 | Train loss 1.183506294517517 | Test loss 1.2164639385223388\n",
      "Epoch 28 | Train loss 1.1740725968551635 | Test loss 1.2243352014541626\n",
      "Epoch 29 | Train loss 1.163924524040222 | Test loss 1.2185599325180054\n",
      "Epoch 30 | Train loss 1.1564695796203612 | Test loss 1.2218065029144287\n",
      "Epoch 31 | Train loss 1.1534983443069458 | Test loss 1.2148994920730591\n",
      "Epoch 32 | Train loss 1.139864649810791 | Test loss 1.2195058025360108\n",
      "Epoch 33 | Train loss 1.139011051826477 | Test loss 1.1831981828689575\n",
      "Epoch 34 | Train loss 1.1356851025390624 | Test loss 1.1894643754959107\n",
      "Epoch 35 | Train loss 1.1210897150421142 | Test loss 1.1736330326080322\n",
      "Epoch 36 | Train loss 1.1120711149215698 | Test loss 1.1760814786911011\n",
      "Epoch 37 | Train loss 1.1220803261184693 | Test loss 1.208445827293396\n",
      "Epoch 38 | Train loss 1.116874263458252 | Test loss 1.1698653388977052\n",
      "Epoch 39 | Train loss 1.0969841452407836 | Test loss 1.1512470848083496\n",
      "Epoch 40 | Train loss 1.0784725836181641 | Test loss 1.1621015031814574\n",
      "Epoch 41 | Train loss 1.077788455581665 | Test loss 1.1764452751159669\n",
      "Epoch 42 | Train loss 1.0761056924819947 | Test loss 1.1468767684936523\n",
      "Epoch 43 | Train loss 1.067605139427185 | Test loss 1.1413467819213867\n",
      "Epoch 44 | Train loss 1.0608530975723267 | Test loss 1.1417357879638672\n",
      "Epoch 45 | Train loss 1.0487409635543823 | Test loss 1.1583983007431031\n",
      "Epoch 46 | Train loss 1.0454882154083251 | Test loss 1.1395569150924683\n",
      "Epoch 47 | Train loss 1.0360320060539245 | Test loss 1.1203820976257324\n",
      "Epoch 48 | Train loss 1.0314858209991455 | Test loss 1.1376149059295655\n",
      "Epoch 49 | Train loss 1.0354949977874757 | Test loss 1.1373161352157592\n",
      "Epoch 50 | Train loss 1.029536441268921 | Test loss 1.1169756441116332\n",
      "Epoch 51 | Train loss 1.024926172027588 | Test loss 1.1176004722595214\n",
      "Epoch 52 | Train loss 1.017732315711975 | Test loss 1.1197597801208496\n",
      "Epoch 53 | Train loss 1.0112775101852416 | Test loss 1.1152197492599487\n",
      "Epoch 54 | Train loss 1.003186232662201 | Test loss 1.1113554904937744\n",
      "Epoch 55 | Train loss 0.9965887038612365 | Test loss 1.102318942642212\n",
      "Epoch 56 | Train loss 0.9930275458145141 | Test loss 1.111794693183899\n",
      "Epoch 57 | Train loss 0.9894674787902832 | Test loss 1.1071772428512574\n",
      "Epoch 58 | Train loss 0.98057098487854 | Test loss 1.0987737426757813\n",
      "Epoch 59 | Train loss 0.9789915725326538 | Test loss 1.1094708616256714\n",
      "Epoch 60 | Train loss 0.9819620096206665 | Test loss 1.0898578994750976\n",
      "Epoch 61 | Train loss 0.9752377476501465 | Test loss 1.1216153905868531\n",
      "Epoch 62 | Train loss 0.9689037013053894 | Test loss 1.0898439792633057\n",
      "Epoch 63 | Train loss 0.9614975566482544 | Test loss 1.0930006011962892\n",
      "Epoch 64 | Train loss 0.9613284065246582 | Test loss 1.1058919717788696\n",
      "Epoch 65 | Train loss 0.9546070446395875 | Test loss 1.0943601715087892\n",
      "Epoch 66 | Train loss 0.9458875993728638 | Test loss 1.1107816154479981\n",
      "Epoch 67 | Train loss 0.9555313307571411 | Test loss 1.1001995738983155\n",
      "Epoch 68 | Train loss 0.9404629720687866 | Test loss 1.082413914489746\n",
      "Epoch 69 | Train loss 0.9300099680519104 | Test loss 1.0937869178771973\n",
      "Epoch 70 | Train loss 0.9339854966163635 | Test loss 1.0919475732803345\n",
      "Epoch 71 | Train loss 0.9249624946594238 | Test loss 1.0771807041168213\n",
      "Epoch 72 | Train loss 0.9374168453788757 | Test loss 1.1125393392562866\n",
      "Epoch 73 | Train loss 0.9205736009407044 | Test loss 1.0875012245178222\n",
      "Epoch 74 | Train loss 0.9150600279617309 | Test loss 1.120182563018799\n",
      "Epoch 75 | Train loss 0.9226640306472779 | Test loss 1.0706103351593017\n",
      "Epoch 76 | Train loss 0.9136650264549255 | Test loss 1.0691472803115845\n",
      "Epoch 77 | Train loss 0.9154654258918762 | Test loss 1.0826135469436646\n",
      "Epoch 78 | Train loss 0.9072551315116882 | Test loss 1.0699295753479003\n",
      "Epoch 79 | Train loss 0.9023316358184814 | Test loss 1.0656162979125976\n",
      "Epoch 80 | Train loss 0.8992150610160827 | Test loss 1.0548596700668336\n",
      "Epoch 81 | Train loss 0.9027452198028565 | Test loss 1.0609879161834717\n",
      "Epoch 82 | Train loss 0.8870888358688355 | Test loss 1.0712854875564575\n",
      "Epoch 83 | Train loss 0.8800354166030884 | Test loss 1.063173094558716\n",
      "Epoch 84 | Train loss 0.880132921257019 | Test loss 1.0643835912704467\n",
      "Epoch 85 | Train loss 0.8822829663848877 | Test loss 1.0760130002975463\n",
      "Epoch 86 | Train loss 0.8744760021972656 | Test loss 1.068267781639099\n",
      "Epoch 87 | Train loss 0.8754822043800354 | Test loss 1.0710947292327881\n",
      "Epoch 88 | Train loss 0.8814325157928466 | Test loss 1.1001376424789429\n",
      "Epoch 89 | Train loss 0.8673576546859741 | Test loss 1.0622024627685547\n",
      "Epoch 90 | Train loss 0.8675249122047425 | Test loss 1.0768187232971191\n",
      "Epoch 91 | Train loss 0.8700834714317321 | Test loss 1.0691205068588256\n",
      "Epoch 92 | Train loss 0.8625738376235962 | Test loss 1.0641699863433838\n",
      "Epoch 93 | Train loss 0.8506248635292053 | Test loss 1.0729283243179322\n",
      "Epoch 94 | Train loss 0.8484197872924805 | Test loss 1.0639981662750244\n",
      "Epoch 95 | Train loss 0.8520728334617614 | Test loss 1.0856104969024658\n",
      "Epoch 96 | Train loss 0.8457185908699035 | Test loss 1.0756646257400513\n",
      "Epoch 97 | Train loss 0.839805016078949 | Test loss 1.0667037511825561\n",
      "Epoch 98 | Train loss 0.8424967334938049 | Test loss 1.058980601501465\n",
      "Epoch 99 | Train loss 0.8379824540710449 | Test loss 1.0750350538253783\n"
     ]
    }
   ],
   "source": [
    "model = Model().to(device)\n",
    "train_l, test_l = train(model)"
   ]
  },
  {
   "cell_type": "code",
   "execution_count": 51,
   "metadata": {
    "id": "F6OEGqriQuvo"
   },
   "outputs": [
    {
     "data": {
      "image/png": "[encoded data removed]",
      "text/plain": [
       "<Figure size 864x432 with 1 Axes>"
      ]
     },
     "metadata": {
      "needs_background": "light"
     },
     "output_type": "display_data"
    }
   ],
   "source": [
    "plt.figure(figsize=(12, 6))\n",
    "plt.plot(range(len(train_l)), train_l, label=\"train\")\n",
    "plt.plot(range(len(test_l)), test_l, label=\"test\")\n",
    "plt.xlabel(\"Epoch\")\n",
    "plt.ylabel(\"Loss\")\n",
    "plt.legend()\n",
    "plt.tight_layout()\n",
    "plt.show()"
   ]
  },
  {
   "cell_type": "markdown",
   "metadata": {
    "id": "miUxg0bDQuvs"
   },
   "source": [
    "И, наконец, посчитаем метрики"
   ]
  },
  {
   "cell_type": "code",
   "execution_count": 52,
   "metadata": {
    "id": "UXSOJFI8Quvt"
   },
   "outputs": [
    {
     "name": "stdout",
     "output_type": "stream",
     "text": [
      "Overall accuracy 0.6315\n",
      "Precision [0.67838676 0.77005348 0.5        0.40499307 0.62801378 0.5746988\n",
      " 0.79268293 0.69293756 0.66831683 0.75578704]\n",
      "Recall [0.656 0.72  0.541 0.584 0.547 0.477 0.65  0.677 0.81  0.653]\n",
      "Mean Precision 0.6465870236277225\n",
      "Mean Recall 0.6315000000000002\n"
     ]
    }
   ],
   "source": [
    "true_positive = np.zeros(10)\n",
    "true_negative = np.zeros(10)\n",
    "false_positive = np.zeros(10)\n",
    "false_negative = np.zeros(10)\n",
    "accuracy = 0\n",
    "ctn = 0\n",
    "for X, y in iter(test_loader):\n",
    "    X = X.to(device)\n",
    "    y = y.to(device)\n",
    "    with torch.no_grad():\n",
    "        y_pred = model(X).max(dim=1)[1]\n",
    "    for i in range(10):\n",
    "        for pred, real in zip(y_pred, y):\n",
    "            if real == i:\n",
    "                if pred == real:\n",
    "                    true_positive[i] += 1\n",
    "                else:\n",
    "                    false_negative[i] += 1\n",
    "            else:\n",
    "                if pred == i:\n",
    "                    false_positive[i] += 1\n",
    "                else:\n",
    "                    true_negative[i] += 1\n",
    "            \n",
    "    accuracy += torch.sum(y_pred == y).item()\n",
    "    ctn += len(y)\n",
    "print(\"Overall accuracy\", accuracy / ctn)\n",
    "print(\"Precision\", true_positive / (true_positive + false_positive))\n",
    "print(\"Recall\", true_positive / (true_positive + false_negative))\n",
    "print(\"Mean Precision\", np.mean(true_positive / (true_positive + false_positive)))\n",
    "print(\"Mean Recall\", np.mean(true_positive / (true_positive + false_negative)))"
   ]
  },
  {
   "cell_type": "code",
   "execution_count": null,
   "metadata": {
    "id": "EKA-j4rIQuvv"
   },
   "outputs": [],
   "source": []
  },
  {
   "cell_type": "code",
   "execution_count": null,
   "metadata": {},
   "outputs": [],
   "source": []
  }
 ],
 "metadata": {
  "colab": {
   "collapsed_sections": [],
   "name": "hw05_task.ipynb",
   "provenance": []
  },
  "kernelspec": {
   "display_name": "Python 3",
   "language": "python",
   "name": "python3"
  },
  "language_info": {
   "codemirror_mode": {
    "name": "ipython",
    "version": 3
   },
   "file_extension": ".py",
   "mimetype": "text/x-python",
   "name": "python",
   "nbconvert_exporter": "python",
   "pygments_lexer": "ipython3",
   "version": "3.8.8"
  }
 },
 "nbformat": 4,
 "nbformat_minor": 1
}
